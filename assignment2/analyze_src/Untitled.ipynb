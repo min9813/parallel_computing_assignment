{
 "cells": [
  {
   "cell_type": "code",
   "execution_count": 8,
   "metadata": {},
   "outputs": [],
   "source": [
    "import numpy as np\n",
    "import matplotlib.pyplot as plt\n",
    "from collections import defaultdict\n",
    "\n",
    "def extract_times(text_lines):\n",
    "    task_time = defaultdict(list)\n",
    "    for idx, text_line in enumerate(text_lines):\n",
    "        if idx % 4 != 0:\n",
    "            time = float(text_line.strip().split()[-1])\n",
    "            task_time[idx%4].append(time)\n",
    "            \n",
    "    for key, value in task_time.items():\n",
    "        array = np.array(value)\n",
    "        mean = np.mean(array)\n",
    "        std_time = np.std(array, ddof=1)\n",
    "        error = std_time / np.sqrt(len(array))\n",
    "        task_time[key] = {\"mean\": mean, \"err\": error}\n",
    "        \n",
    "    mean\n",
    "        \n",
    "    return task_time"
   ]
  },
  {
   "cell_type": "code",
   "execution_count": 42,
   "metadata": {},
   "outputs": [
    {
     "data": {
      "image/png": "[encoded data removed]",
      "text/plain": [
       "<Figure size 432x288 with 1 Axes>"
      ]
     },
     "metadata": {
      "needs_background": "light"
     },
     "output_type": "display_data"
    }
   ],
   "source": [
    "log_dir = \"../log\"\n",
    "\n",
    "vec_size = [100, 1000, 10000, 100000, 1000000, 10000000, 100000000]\n",
    "\n",
    "path_list = []\n",
    "for size in vec_size:\n",
    "    path_list.append(log_dir+\"/{}.txt\".format(size))\n",
    "    \n",
    "size_result = {}\n",
    "for idx, path in enumerate(path_list):\n",
    "    with open(path, \"r\") as f:\n",
    "        text = f.readlines()\n",
    "    size_result[vec_size[idx]] = extract_times(text)\n",
    "    \n",
    "task_size = {}\n",
    "for size in sorted(size_result.keys()):\n",
    "    size_task_time = size_result[size]\n",
    "    for task in size_task_time:\n",
    "        if task in task_size:\n",
    "            task_size[task][\"mean\"].append(size_task_time[task][\"mean\"])\n",
    "            task_size[task][\"err\"].append(size_task_time[task][\"err\"])\n",
    "        else:\n",
    "            task_size[task] = {\n",
    "                \"mean\": [size_task_time[task][\"mean\"]],\n",
    "                \"err\": [size_task_time[task][\"err\"]],\n",
    "            }\n",
    "    \n",
    "    \n",
    "colors = [\"orange\", \"skyblue\", \"green\"]\n",
    "    \n",
    "vec_size = np.array(vec_size)\n",
    "coef = {\n",
    "    1: 2*8*1e-9,\n",
    "    2: 4*8*1e-9,\n",
    "    3: 3*8*1e-9\n",
    "}\n",
    "for task in task_size:\n",
    "    mean_time = task_size[task][\"mean\"]\n",
    "    through_put = (vec_size * coef[task]) / (np.array(mean_time) / 1000)\n",
    "    err_time = task_size[task][\"err\"]\n",
    "#     print(through_put)\n",
    "#     plt.scatter(vec_size, through_put, label=f\"task:{task}\", facecolors='none', edgecolors=colors[task-1])\n",
    "    plt.plot(vec_size, through_put, label=f\"task:{task}\", color=colors[task-1])\n",
    "    plt.scatter(vec_size, through_put, color=colors[task-1])\n",
    "#     plt.errorbar(vec_size, through_put, yerr=err_time, color=colors[task-1])\n",
    "\n",
    "plt.ylabel('through put [GB/s]')\n",
    "plt.xlabel('vector size')\n",
    "# plt.ylim(-5e-4, 5e-4)\n",
    "plt.xscale('log')\n",
    "# plt.yscale('log')\n",
    "\n",
    "plt.legend()\n",
    "plt.savefig('./throughput.png')\n"
   ]
  }
 ],
 "metadata": {
  "kernelspec": {
   "display_name": "Python 3",
   "language": "python",
   "name": "python3"
  },
  "language_info": {
   "codemirror_mode": {
    "name": "ipython",
    "version": 3
   },
   "file_extension": ".py",
   "mimetype": "text/x-python",
   "name": "python",
   "nbconvert_exporter": "python",
   "pygments_lexer": "ipython3",
   "version": "3.7.4"
  }
 },
 "nbformat": 4,
 "nbformat_minor": 4
}
